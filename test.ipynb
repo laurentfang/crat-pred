{
 "cells": [
  {
   "cell_type": "code",
   "execution_count": 16,
   "id": "initial_id",
   "metadata": {
    "collapsed": true,
    "ExecuteTime": {
     "end_time": "2023-11-20T15:59:35.626850Z",
     "start_time": "2023-11-20T15:59:35.620750Z"
    }
   },
   "outputs": [],
   "source": [
    "import argparse\n",
    "import os\n",
    "import sys\n",
    "from tqdm import tqdm\n",
    "\n",
    "import torch\n",
    "from torch.utils.data import DataLoader\n",
    "from argoverse.evaluation.eval_forecasting import compute_forecasting_metrics\n",
    "from argoverse.evaluation.competition_util import generate_forecasting_h5\n",
    "\n",
    "from data.argoverse.argo_csv_dataset import ArgoCSVDataset\n",
    "from data.argoverse.utils.torch_utils import collate_fn_dict\n",
    "from model.crat_pred import CratPred\n",
    "from Args import Args \n",
    "import pickle\n",
    "\n",
    "# Make newly created directories readable, writable and descendible for everyone (chmod 777)\n",
    "os.umask(0)\n",
    "\n",
    "root_path = %pwd\n",
    "sys.path.insert(0, root_path)\n",
    "\n",
    "        \n",
    "\n",
    "# Create an instance of the Args class\n",
    "args = Args()\n",
    "\n"
   ]
  },
  {
   "cell_type": "code",
   "execution_count": 17,
   "outputs": [],
   "source": [
    "if args.split == \"val\":\n",
    "    dataset = ArgoCSVDataset(args.val_split, args.val_split_pre, args)\n",
    "else:\n",
    "    dataset = ArgoCSVDataset(args.test_split, args.test_split_pre, args)\n",
    "\n",
    "data_loader = DataLoader(\n",
    "    dataset,\n",
    "    batch_size=args.val_batch_size,\n",
    "    num_workers=args.val_workers,\n",
    "    collate_fn=collate_fn_dict,\n",
    "    shuffle=False,\n",
    "    pin_memory=True,\n",
    ")\n",
    "\n",
    "# Load model with weights\n",
    "model = CratPred.load_from_checkpoint(checkpoint_path=args.ckpt_path)\n",
    "model.eval()\n",
    "\n",
    "# Iterate over dataset and generate predictions\n",
    "\n",
    "predictions = dict()\n",
    "gts = dict()  # Ground truth\n",
    "cities = dict()"
   ],
   "metadata": {
    "collapsed": false,
    "ExecuteTime": {
     "end_time": "2023-11-20T15:59:39.377151Z",
     "start_time": "2023-11-20T15:59:39.134122Z"
    }
   },
   "id": "6995d50ab141f7c2"
  },
  {
   "cell_type": "code",
   "execution_count": 18,
   "outputs": [
    {
     "name": "stderr",
     "output_type": "stream",
     "text": [
      "100%|██████████| 1234/1234 [03:35<00:00,  5.74it/s]\n"
     ]
    }
   ],
   "source": [
    "# Details can be seen via data/argoverse/utils/extractor_proc.py\n",
    "\n",
    "for data in tqdm(data_loader):\n",
    "    data = dict(data)\n",
    "    with torch.no_grad():\n",
    "        output = model(data)  # Output is the model's prediction for that data.\n",
    "        output = [x[0:1].detach().cpu().numpy() for x in output]\n",
    "    for i, (argo_id, prediction) in enumerate(zip(data[\"argo_id\"], output)):\n",
    "        predictions[argo_id] = prediction.squeeze()\n",
    "        cities[argo_id] = data[\"city\"][i]\n",
    "        gts[argo_id] = data[\"gt\"][i][0] if args.split == \"val\" else None"
   ],
   "metadata": {
    "collapsed": false,
    "ExecuteTime": {
     "end_time": "2023-11-20T16:03:18.341212Z",
     "start_time": "2023-11-20T15:59:43.287056Z"
    }
   },
   "id": "1376dc9bb7d05315"
  },
  {
   "cell_type": "code",
   "execution_count": 31,
   "outputs": [],
   "source": [
    "import csv\n",
    "\n",
    "filename = 'result_data/test/data.csv'\n",
    "# Writing to csv\n",
    "with open(filename, 'w', newline='') as csvfile:\n",
    "    writer = csv.DictWriter(csvfile, fieldnames=data.keys())\n",
    "\n",
    "    # Write header\n",
    "    writer.writeheader()\n",
    "\n",
    "    # Write data\n",
    "    for row in zip(*data.values()):\n",
    "        writer.writerow(dict(zip(data.keys(), row)))"
   ],
   "metadata": {
    "collapsed": false,
    "ExecuteTime": {
     "end_time": "2023-11-20T16:08:54.250528Z",
     "start_time": "2023-11-20T16:08:54.070478Z"
    }
   },
   "id": "5a239762f4a6a3ae"
  },
  {
   "cell_type": "code",
   "execution_count": 33,
   "outputs": [
    {
     "ename": "AttributeError",
     "evalue": "'list' object has no attribute 'keys'",
     "output_type": "error",
     "traceback": [
      "\u001B[0;31m---------------------------------------------------------------------------\u001B[0m",
      "\u001B[0;31mAttributeError\u001B[0m                            Traceback (most recent call last)",
      "Cell \u001B[0;32mIn[33], line 1\u001B[0m\n\u001B[0;32m----> 1\u001B[0m \u001B[43moutput\u001B[49m\u001B[38;5;241;43m.\u001B[39;49m\u001B[43mkeys\u001B[49m()\n",
      "\u001B[0;31mAttributeError\u001B[0m: 'list' object has no attribute 'keys'"
     ]
    }
   ],
   "source": [
    "output.keys()"
   ],
   "metadata": {
    "collapsed": false,
    "ExecuteTime": {
     "end_time": "2023-11-20T16:13:12.791538Z",
     "start_time": "2023-11-20T16:13:12.733472Z"
    }
   },
   "id": "aa5b33404644b9c9"
  },
  {
   "cell_type": "code",
   "execution_count": null,
   "outputs": [],
   "source": [
    "# Evaluate or submit\n",
    "if args.split == \"val\":\n",
    "    results_6 = compute_forecasting_metrics(\n",
    "        predictions, gts, cities, 6, 30, 2)\n",
    "    results_1 = compute_forecasting_metrics(\n",
    "        predictions, gts, cities, 1, 30, 2)\n",
    "else:\n",
    "    generate_forecasting_h5(predictions, os.path.join(\n",
    "        os.path.dirname(os.path.dirname(args.ckpt_path)), \"test_predictions.h5\"))\n",
    "\n",
    "print(len(predictions))\n",
    "print(len(gts))\n",
    "#\n",
    "# with open('result_data/prediction.pkl', 'wb') as file:\n",
    "#     pickle.dump(predictions, file)\n",
    "#\n",
    "# with open('result_data/gts.pkl', 'wb') as file:\n",
    "#     pickle.dump(gts, file)"
   ],
   "metadata": {
    "collapsed": false
   },
   "id": "db4b85c1862eb9a4"
  }
 ],
 "metadata": {
  "kernelspec": {
   "display_name": "Python 3",
   "language": "python",
   "name": "python3"
  },
  "language_info": {
   "codemirror_mode": {
    "name": "ipython",
    "version": 2
   },
   "file_extension": ".py",
   "mimetype": "text/x-python",
   "name": "python",
   "nbconvert_exporter": "python",
   "pygments_lexer": "ipython2",
   "version": "2.7.6"
  }
 },
 "nbformat": 4,
 "nbformat_minor": 5
}
